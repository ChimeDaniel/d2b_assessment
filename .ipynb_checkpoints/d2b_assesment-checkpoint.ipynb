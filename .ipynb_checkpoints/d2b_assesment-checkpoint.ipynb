{
 "cells": [
  {
   "cell_type": "code",
   "execution_count": 4,
   "id": "2fc93eef",
   "metadata": {},
   "outputs": [
    {
     "name": "stdout",
     "output_type": "stream",
     "text": [
      "Requirement already satisfied: boto3 in c:\\users\\hp\\anaconda3\\lib\\site-packages (1.24.89)\n",
      "Requirement already satisfied: botocore in c:\\users\\hp\\anaconda3\\lib\\site-packages (1.27.89)\n",
      "Requirement already satisfied: s3transfer<0.7.0,>=0.6.0 in c:\\users\\hp\\anaconda3\\lib\\site-packages (from boto3) (0.6.0)\n",
      "Requirement already satisfied: jmespath<2.0.0,>=0.7.1 in c:\\users\\hp\\anaconda3\\lib\\site-packages (from boto3) (1.0.1)\n",
      "Requirement already satisfied: python-dateutil<3.0.0,>=2.1 in c:\\users\\hp\\anaconda3\\lib\\site-packages (from botocore) (2.8.2)\n",
      "Requirement already satisfied: urllib3<1.27,>=1.25.4 in c:\\users\\hp\\anaconda3\\lib\\site-packages (from botocore) (1.26.7)\n",
      "Requirement already satisfied: six>=1.5 in c:\\users\\hp\\anaconda3\\lib\\site-packages (from python-dateutil<3.0.0,>=2.1->botocore) (1.16.0)\n"
     ]
    }
   ],
   "source": [
    "#install packages\n",
    "!pip install boto3 botocore"
   ]
  },
  {
   "cell_type": "code",
   "execution_count": 5,
   "id": "da9139a9",
   "metadata": {},
   "outputs": [],
   "source": [
    "#import the packages\n",
    "import boto3\n",
    "from botocore import UNSIGNED\n",
    "from botocore.client import Config"
   ]
  },
  {
   "cell_type": "code",
   "execution_count": 11,
   "id": "94c8b97d",
   "metadata": {},
   "outputs": [
    {
     "name": "stdout",
     "output_type": "stream",
     "text": [
      "orders successfully downloaded\n",
      "reviews successfully downloaded\n",
      "shipment_deliveries successfully downloaded\n"
     ]
    }
   ],
   "source": [
    "#get all the files from the s3 bucket\n",
    "files = [\"orders\",\"reviews\",\"shipment_deliveries\"]\n",
    "for file in files:\n",
    "    s3 = boto3.client('s3', config=Config(signature_version=UNSIGNED))\n",
    "    bucket_name = \"d2b-internal-assessment-bucket\"\n",
    "    response = s3.list_objects(Bucket=bucket_name, Prefix=\"orders_data\")\n",
    "    s3.download_file(bucket_name, f\"orders_data/{file}.csv\", f\"{file}.csv\")\n",
    "    print(f\"{file} successfully downloaded\")"
   ]
  },
  {
   "cell_type": "code",
   "execution_count": null,
   "id": "148e2bf9",
   "metadata": {},
   "outputs": [],
   "source": []
  }
 ],
 "metadata": {
  "kernelspec": {
   "display_name": "Python 3 (ipykernel)",
   "language": "python",
   "name": "python3"
  },
  "language_info": {
   "codemirror_mode": {
    "name": "ipython",
    "version": 3
   },
   "file_extension": ".py",
   "mimetype": "text/x-python",
   "name": "python",
   "nbconvert_exporter": "python",
   "pygments_lexer": "ipython3",
   "version": "3.9.7"
  }
 },
 "nbformat": 4,
 "nbformat_minor": 5
}
